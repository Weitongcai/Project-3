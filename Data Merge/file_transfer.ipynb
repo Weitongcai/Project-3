{
 "cells": [
  {
   "cell_type": "code",
   "execution_count": 1,
   "id": "97aa254b",
   "metadata": {},
   "outputs": [],
   "source": [
    "import pandas as pd"
   ]
  },
  {
   "cell_type": "code",
   "execution_count": 2,
   "id": "9f266b66",
   "metadata": {},
   "outputs": [],
   "source": [
    "df = pd.read_csv('merged_table.csv')\n",
    "\n",
    "# Convert the DataFrame to JSON\n",
    "json_data = df.to_json(orient='records')\n",
    "\n",
    "# Specify the output JSON file path\n",
    "output_file = 'sample.json'\n",
    "\n",
    "# Save the JSON data to the output file\n",
    "with open(output_file, 'w') as file:\n",
    "    file.write(json_data)\n"
   ]
  },
  {
   "cell_type": "code",
   "execution_count": null,
   "id": "dae83851",
   "metadata": {},
   "outputs": [],
   "source": []
  }
 ],
 "metadata": {
  "kernelspec": {
   "display_name": "Python 3 (ipykernel)",
   "language": "python",
   "name": "python3"
  },
  "language_info": {
   "codemirror_mode": {
    "name": "ipython",
    "version": 3
   },
   "file_extension": ".py",
   "mimetype": "text/x-python",
   "name": "python",
   "nbconvert_exporter": "python",
   "pygments_lexer": "ipython3",
   "version": "3.9.13"
  }
 },
 "nbformat": 4,
 "nbformat_minor": 5
}
